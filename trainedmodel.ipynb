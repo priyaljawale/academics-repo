{
  "nbformat": 4,
  "nbformat_minor": 0,
  "metadata": {
    "colab": {
      "name": "trainedmodel.ipynb",
      "provenance": []
    },
    "kernelspec": {
      "name": "python3",
      "display_name": "Python 3"
    }
  },
  "cells": [
    {
      "cell_type": "code",
      "metadata": {
        "id": "dtO1fcIjJNge",
        "colab": {
          "base_uri": "https://localhost:8080/",
          "height": 80
        },
        "outputId": "1c3ee71d-7003-4c08-ca25-0ad29af6b24c"
      },
      "source": [
        "import keras"
      ],
      "execution_count": null,
      "outputs": [
        {
          "output_type": "stream",
          "text": [
            "Using TensorFlow backend.\n"
          ],
          "name": "stderr"
        },
        {
          "output_type": "display_data",
          "data": {
            "text/html": [
              "<p style=\"color: red;\">\n",
              "The default version of TensorFlow in Colab will soon switch to TensorFlow 2.x.<br>\n",
              "We recommend you <a href=\"https://www.tensorflow.org/guide/migrate\" target=\"_blank\">upgrade</a> now \n",
              "or ensure your notebook will continue to use TensorFlow 1.x via the <code>%tensorflow_version 1.x</code> magic:\n",
              "<a href=\"https://colab.research.google.com/notebooks/tensorflow_version.ipynb\" target=\"_blank\">more info</a>.</p>\n"
            ],
            "text/plain": [
              "<IPython.core.display.HTML object>"
            ]
          },
          "metadata": {
            "tags": []
          }
        }
      ]
    },
    {
      "cell_type": "code",
      "metadata": {
        "id": "bnWcsme-RhM2"
      },
      "source": [
        "from keras.applications.resnet50 import ResNet50\n",
        "from keras.preprocessing import image\n",
        "from keras.applications.resnet50 import preprocess_input, decode_predictions\n",
        "import numpy as np"
      ],
      "execution_count": null,
      "outputs": []
    },
    {
      "cell_type": "code",
      "metadata": {
        "id": "gCVH6BsRKFcW"
      },
      "source": [
        "model = ResNet50(weights='imagenet')\n",
        "\n",
        "img_path = 'dog.jpg'\n",
        "img = image.load_img(img_path, target_size=(224,224))\n",
        "x = image.img_to_array(img)\n",
        "x = np.expand_dims(x, axis=0)\n",
        "x = preprocess_input(x)"
      ],
      "execution_count": null,
      "outputs": []
    },
    {
      "cell_type": "code",
      "metadata": {
        "id": "HaflydrxLNzh",
        "colab": {
          "base_uri": "https://localhost:8080/",
          "height": 68
        },
        "outputId": "fd495a33-aefe-4fb6-839e-986de015dfba"
      },
      "source": [
        "preds = model.predict(x)\n",
        "print('Predicted: ', decode_predictions(preds, top=3)[0])"
      ],
      "execution_count": null,
      "outputs": [
        {
          "output_type": "stream",
          "text": [
            "Downloading data from https://storage.googleapis.com/download.tensorflow.org/data/imagenet_class_index.json\n",
            "40960/35363 [==================================] - 0s 0us/step\n",
            "Predicted:  [('n02110958', 'pug', 0.60642), ('n02108422', 'bull_mastiff', 0.38092342), ('n04409515', 'tennis_ball', 0.001541334)]\n"
          ],
          "name": "stdout"
        }
      ]
    },
    {
      "cell_type": "code",
      "metadata": {
        "id": "mtpeGcBNrCCh",
        "colab": {
          "base_uri": "https://localhost:8080/",
          "height": 204
        },
        "outputId": "8d81f96a-a51e-40c4-a956-50c9806700d0"
      },
      "source": [
        "!wget https://www.petmd.com/sites/default/files/Acute-Dog-Diarrhea-47066074.jpg"
      ],
      "execution_count": null,
      "outputs": [
        {
          "output_type": "stream",
          "text": [
            "--2020-01-22 14:59:49--  https://www.petmd.com/sites/default/files/Acute-Dog-Diarrhea-47066074.jpg\n",
            "Resolving www.petmd.com (www.petmd.com)... 104.16.84.51, 104.16.83.51\n",
            "Connecting to www.petmd.com (www.petmd.com)|104.16.84.51|:443... connected.\n",
            "HTTP request sent, awaiting response... 200 OK\n",
            "Length: 284158 (277K) [image/jpeg]\n",
            "Saving to: ‘Acute-Dog-Diarrhea-47066074.jpg’\n",
            "\n",
            "\r          Acute-Dog   0%[                    ]       0  --.-KB/s               \rAcute-Dog-Diarrhea- 100%[===================>] 277.50K  --.-KB/s    in 0.03s   \n",
            "\n",
            "2020-01-22 14:59:49 (10.2 MB/s) - ‘Acute-Dog-Diarrhea-47066074.jpg’ saved [284158/284158]\n",
            "\n"
          ],
          "name": "stdout"
        }
      ]
    },
    {
      "cell_type": "code",
      "metadata": {
        "id": "Z_yHNeUTrKzq"
      },
      "source": [
        "!mv Acute-Dog-Diarrhea-47066074.jpg dog.jpg"
      ],
      "execution_count": null,
      "outputs": []
    }
  ]
}